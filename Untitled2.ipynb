{
 "cells": [
  {
   "cell_type": "code",
   "execution_count": 1,
   "metadata": {},
   "outputs": [
    {
     "name": "stdout",
     "output_type": "stream",
     "text": [
      "Populating the interactive namespace from numpy and matplotlib\n"
     ]
    },
    {
     "name": "stderr",
     "output_type": "stream",
     "text": [
      "/g/data3/hh5/public/apps/miniconda3/envs/analysis3-19.01/lib/python3.6/site-packages/dask/config.py:168: YAMLLoadWarning: calling yaml.load() without Loader=... is deprecated, as the default Loader is unsafe. Please read https://msg.pyyaml.org/load for full details.\n",
      "  data = yaml.load(f.read()) or {}\n",
      "/g/data3/hh5/public/apps/miniconda3/envs/analysis3-19.01/lib/python3.6/site-packages/distributed/config.py:20: YAMLLoadWarning: calling yaml.load() without Loader=... is deprecated, as the default Loader is unsafe. Please read https://msg.pyyaml.org/load for full details.\n",
      "  defaults = yaml.load(f)\n"
     ]
    }
   ],
   "source": [
    "# Load modules\n",
    "%pylab inline\n",
    "from netCDF4 import Dataset # to work with NetCDF files\n",
    "import numpy as np\n",
    "import matplotlib.pyplot as plt # to generate plots\n",
    "from mpl_toolkits.basemap import Basemap # plot on map projections\n",
    "from os.path import expanduser\n",
    "home = expanduser(\"~\") # Get users home directory\n",
    "import os # operating system interface\n",
    "import scipy as sp\n",
    "import xarray as xr\n",
    "from xarray.ufuncs import square, sqrt\n",
    "import scipy.interpolate\n",
    "import scipy.ndimage\n"
   ]
  },
  {
   "cell_type": "code",
   "execution_count": 4,
   "metadata": {},
   "outputs": [],
   "source": [
    "#Ocean_File = os.path.join(NYFPertDir,'output*/ocean.nc')\n",
    "#print Ocean_File\n",
    "#pert=xr.open_mfdataset(Ocean_File,engine='netcdf4',concat_dim='time',decode_times=False)\n",
    "#print pert.ty_trans_rho.shape\n",
    "\n",
    "vgrid_file ='/g/data1/v45/pas561/mom/archive/VertOverturn/kds75.uvwt.230-257.ncra.nc'\n",
    "nc = Dataset(vgrid_file, mode='r') # file handle, open in read only mode\n",
    "yt_ocean = nc.variables['yt_ocean'][:]\n",
    "xt_ocean = nc.variables['xt_ocean'][:]\n",
    "nc.close() # close the file\n",
    "#print potrho.shape\n",
    "#print yu_ocean.shape\n"
   ]
  },
  {
   "cell_type": "code",
   "execution_count": 10,
   "metadata": {},
   "outputs": [],
   "source": [
    "#load gmoc in rho space\n",
    "#NYFCntrlDir = '/g/data3/hh5/tmp/cosima/mom01v5/kds75_cp/'\n",
    "#NYFPertDir = '/g/data3/hh5/tmp/pas561/kds75_wp2/2yr/'\n",
    "NYFCntrlDir = '/g/data3/hh5/tmp/pas561/kds75_cp_ann/'\n",
    "NYFPertDir = '/g/data3/hh5/tmp/pas561/kds75_wp2/2yr/'\n"
   ]
  },
  {
   "cell_type": "code",
   "execution_count": 3,
   "metadata": {},
   "outputs": [
    {
     "name": "stdout",
     "output_type": "stream",
     "text": [
      "/g/data3/hh5/tmp/pas561/kds75_cp_ann/ocean_*.nc\n",
      "(27, 75, 1351, 3600)\n",
      "/g/data3/hh5/tmp/pas561/kds75_wp2/2yr/ocean_*.nc\n",
      "(29, 75, 1351, 3600)\n"
     ]
    }
   ],
   "source": [
    "Ocean_File = os.path.join(NYFCntrlDir,'ocean_*.nc')\n",
    "print(Ocean_File)\n",
    "mom01_cntrl=xr.open_mfdataset(Ocean_File,engine='netcdf4',concat_dim='time',decode_times=False)\n",
    "print(mom01_cntrl.temp.shape)\n",
    "\n",
    "Ocean_File = os.path.join(NYFPertDir,'ocean_*.nc')\n",
    "print(Ocean_File)\n",
    "mom01_pert=xr.open_mfdataset(Ocean_File,engine='netcdf4',concat_dim='time',decode_times=False)\n",
    "print(mom01_pert.temp.shape)"
   ]
  },
  {
   "cell_type": "code",
   "execution_count": 3,
   "metadata": {},
   "outputs": [
    {
     "name": "stdout",
     "output_type": "stream",
     "text": [
      "/g/data3/hh5/tmp/pas561/kds75_wp2/2yr/output*/ocean.nc\n",
      "(116, 80, 2700, 3600)\n"
     ]
    }
   ],
   "source": []
  },
  {
   "cell_type": "code",
   "execution_count": 7,
   "metadata": {},
   "outputs": [
    {
     "name": "stdout",
     "output_type": "stream",
     "text": [
      "[-59.94689888]\n",
      "[0.05]\n",
      "(29, 75, 1, 1)\n"
     ]
    }
   ],
   "source": [
    "j1=np.argwhere(yt_ocean<-59.9)\n",
    "j1=j1[-1]\n",
    "print(yt_ocean[j1])\n",
    "\n",
    "i1=np.argwhere(xt_ocean>0)\n",
    "i1=i1[0]\n",
    "print(xt_ocean[i1])\n",
    "\n",
    "pertT_60S0E=mom01_pert.temp[:,:,j1,i1].load()\n",
    "print(pertT_60S0E.shape)\n",
    "\n",
    "of=os.path.join(NYFPertDir,'pertT_60S0E.npy')\n",
    "a=np.save(of,pertT_60S0E)\n",
    "\n",
    "np.savetxt('/g/data3/hh5/tmp/cosima/mom01v5/kds75_cp/mom01_pertT_60S0E.txt',pertT_60S0E[:,:,0,0], fmt='%.3f')\n",
    "\n"
   ]
  },
  {
   "cell_type": "code",
   "execution_count": 9,
   "metadata": {},
   "outputs": [
    {
     "name": "stdout",
     "output_type": "stream",
     "text": [
      "(27, 75, 1, 1)\n"
     ]
    },
    {
     "ename": "NameError",
     "evalue": "name 'NYCntrlDir' is not defined",
     "output_type": "error",
     "traceback": [
      "\u001b[0;31m---------------------------------------------------------------------------\u001b[0m",
      "\u001b[0;31mNameError\u001b[0m                                 Traceback (most recent call last)",
      "\u001b[0;32m<ipython-input-9-a1652e3acb2b>\u001b[0m in \u001b[0;36m<module>\u001b[0;34m\u001b[0m\n\u001b[1;32m      2\u001b[0m \u001b[0mprint\u001b[0m\u001b[0;34m(\u001b[0m\u001b[0mcntrl_60S0E\u001b[0m\u001b[0;34m.\u001b[0m\u001b[0mshape\u001b[0m\u001b[0;34m)\u001b[0m\u001b[0;34m\u001b[0m\u001b[0;34m\u001b[0m\u001b[0m\n\u001b[1;32m      3\u001b[0m \u001b[0;34m\u001b[0m\u001b[0m\n\u001b[0;32m----> 4\u001b[0;31m \u001b[0mof\u001b[0m\u001b[0;34m=\u001b[0m\u001b[0mos\u001b[0m\u001b[0;34m.\u001b[0m\u001b[0mpath\u001b[0m\u001b[0;34m.\u001b[0m\u001b[0mjoin\u001b[0m\u001b[0;34m(\u001b[0m\u001b[0mNYCntrlDir\u001b[0m\u001b[0;34m,\u001b[0m\u001b[0;34m'cntrlT_60S0E.npy'\u001b[0m\u001b[0;34m)\u001b[0m\u001b[0;34m\u001b[0m\u001b[0;34m\u001b[0m\u001b[0m\n\u001b[0m\u001b[1;32m      5\u001b[0m \u001b[0ma\u001b[0m\u001b[0;34m=\u001b[0m\u001b[0mnp\u001b[0m\u001b[0;34m.\u001b[0m\u001b[0msave\u001b[0m\u001b[0;34m(\u001b[0m\u001b[0mof\u001b[0m\u001b[0;34m,\u001b[0m\u001b[0mcntrlT_60S0E\u001b[0m\u001b[0;34m)\u001b[0m\u001b[0;34m\u001b[0m\u001b[0;34m\u001b[0m\u001b[0m\n\u001b[1;32m      6\u001b[0m \u001b[0;34m\u001b[0m\u001b[0m\n",
      "\u001b[0;31mNameError\u001b[0m: name 'NYCntrlDir' is not defined"
     ]
    }
   ],
   "source": [
    "cntrl_60S0E=mom01_cntrl.temp[:,:,j1,i1].load()\n",
    "print(cntrl_60S0E.shape)\n",
    "\n",
    "of=os.path.join(NYFCntrlDir,'cntrl_60S0E.npy')\n",
    "a=np.save(of,cntrlT_60S0E)\n",
    "\n",
    "np.savetxt('/g/data3/hh5/tmp/cosima/mom01v5/kds75_cp/mom01_cntrlT_60S0E.txt',cntrlT_60S0E[:,:,0,0], fmt='%.3f')\n"
   ]
  },
  {
   "cell_type": "code",
   "execution_count": 13,
   "metadata": {},
   "outputs": [],
   "source": [
    "of=os.path.join(NYFCntrlDir,'cntrlT_60S0E.npy')\n",
    "a=np.save(of,cntrl_60S0E)\n",
    "\n",
    "np.savetxt('/g/data3/hh5/tmp/cosima/mom01v5/kds75_cp/mom01_cntrlT_60S0E.txt',cntrl_60S0E[:,:,0,0], fmt='%.3f')\n"
   ]
  },
  {
   "cell_type": "code",
   "execution_count": null,
   "metadata": {},
   "outputs": [],
   "source": []
  }
 ],
 "metadata": {
  "kernelspec": {
   "display_name": "Python [conda env:analysis3-19.01]",
   "language": "python",
   "name": "conda-env-analysis3-19.01-py"
  },
  "language_info": {
   "codemirror_mode": {
    "name": "ipython",
    "version": 3
   },
   "file_extension": ".py",
   "mimetype": "text/x-python",
   "name": "python",
   "nbconvert_exporter": "python",
   "pygments_lexer": "ipython3",
   "version": "3.6.7"
  }
 },
 "nbformat": 4,
 "nbformat_minor": 2
}
