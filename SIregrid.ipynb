{
 "cells": [
  {
   "cell_type": "markdown",
   "id": "21384c3d-cc2f-41b6-b029-686b08accb5c",
   "metadata": {},
   "source": [
    "\n",
    "https://xesmf.readthedocs.io/en/latest/notebooks/Rectilinear_grid.html\n",
    "https://nbviewer.org/github/aekiss/ice_analysis/blob/main/ice_maps.ipynb#Regridders"
   ]
  },
  {
   "cell_type": "code",
   "execution_count": null,
   "id": "f10b8ea6-4789-4af2-ab91-008fb9a7d711",
   "metadata": {},
   "outputs": [],
   "source": []
  },
  {
   "cell_type": "code",
   "execution_count": null,
   "id": "688e2419-b55b-45f0-8cc5-6d50e29b2156",
   "metadata": {},
   "outputs": [],
   "source": []
  },
  {
   "cell_type": "code",
   "execution_count": null,
   "id": "2d8e528a-6b53-4752-a1ca-7fa9ea3e418c",
   "metadata": {},
   "outputs": [],
   "source": [
    "def G02202_obs_regridder(grid_in, grid_out, method='bilinear', **kwargs):\n",
    "    '''Return a function that takes one dataarray argument on grid_in and returns that dataarray regridded onto grid_out.\n",
    "    \n",
    "    grid_in -- path to a NSIDC G02202 NetCDF grid file\n",
    "    grid_out -- path to a MOM grid file (tracer points are used)\n",
    "    '''\n",
    "    weightfn = '_'.join(['regrid', 'weights', os.path.splitext(os.path.basename(grid_in))[0],\n",
    "                         'to', os.path.splitext(os.path.basename(grid_out))[0], method])+'.nc'\n",
    "    ds_in = xr.open_dataset(grid_in)\\\n",
    "             .rename({'xgrid': 'x', 'ygrid': 'y',\n",
    "                     'longitude': 'lon', 'latitude': 'lat'})\n",
    "    try: # for /g/data/ik11/grids/ocean_grid_10.nc and /g/data/ik11/grids/ocean_grid_025.nc\n",
    "        ds_out = xr.open_dataset(grid_out).rename({'xt_ocean': 'x', 'yt_ocean': 'y', 'geolon_t': 'lon', 'geolat_t': 'lat'})\n",
    "    except ValueError: # for /g/data/ik11/grids/ocean_grid_01.nc - see https://github.com/COSIMA/access-om2/issues/236\n",
    "        ds_out = xr.open_dataset(grid_out).rename({'grid_x_T': 'x', 'grid_y_T': 'y', 'geolon_t': 'lon', 'geolat_t': 'lat'})\n",
    "        ds_out_fix = xr.open_dataset('/g/data/ik11/outputs/access-om2-01/01deg_jra55v140_iaf_cycle3/output488/ocean/ocean-3d-temp-1-daily-mean-ym_1958_01.nc')\\\n",
    "                    .rename({'xt_ocean': 'x', 'yt_ocean': 'y'})\n",
    "        ds_out = ds_out.assign_coords({'x': ds_out_fix['x'], 'y': ds_out_fix['y']})\n",
    "\n",
    "    # make regridder\n",
    "    rg = xesmf.Regridder(ds_in, ds_out, method=method, reuse_weights=os.path.exists(weightfn), filename=weightfn, **kwargs)\n",
    "\n",
    "    def outf(da): # define regridding function to output\n",
    "        outds = rg(da)\n",
    "        outds.coords['x'] = ds_out['x']\n",
    "        outds.coords['y'] = ds_out['y']\n",
    "        return outds.rename({'x': 'xt_ocean', 'y': 'yt_ocean', 'lon': 'longitude', 'lat': 'latitude'})\n",
    "\n",
    "    return outf"
   ]
  }
 ],
 "metadata": {
  "kernelspec": {
   "display_name": "Python [conda env:analysis3-21.10]",
   "language": "python",
   "name": "conda-env-analysis3-21.10-py"
  },
  "language_info": {
   "codemirror_mode": {
    "name": "ipython",
    "version": 3
   },
   "file_extension": ".py",
   "mimetype": "text/x-python",
   "name": "python",
   "nbconvert_exporter": "python",
   "pygments_lexer": "ipython3",
   "version": "3.9.9"
  }
 },
 "nbformat": 4,
 "nbformat_minor": 5
}
