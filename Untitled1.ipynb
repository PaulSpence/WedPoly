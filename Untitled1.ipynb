{
 "cells": [
  {
   "cell_type": "code",
   "execution_count": 1,
   "metadata": {},
   "outputs": [
    {
     "name": "stdout",
     "output_type": "stream",
     "text": [
      "Populating the interactive namespace from numpy and matplotlib\n"
     ]
    }
   ],
   "source": [
    "# Load modules\n",
    "%pylab inline\n",
    "from netCDF4 import Dataset # to work with NetCDF files\n",
    "import numpy as np\n",
    "import matplotlib.pyplot as plt # to generate plots\n",
    "from mpl_toolkits.basemap import Basemap # plot on map projections\n",
    "from os.path import expanduser\n",
    "home = expanduser(\"~\") # Get users home directory\n",
    "import os # operating system interface\n",
    "import scipy as sp\n",
    "import xarray as xr\n",
    "from xarray.ufuncs import square, sqrt\n",
    "import scipy.interpolate\n",
    "import scipy.ndimage\n"
   ]
  },
  {
   "cell_type": "code",
   "execution_count": 2,
   "metadata": {},
   "outputs": [
    {
     "name": "stdout",
     "output_type": "stream",
     "text": [
      "(1080, 1440)\n",
      "(50,)\n",
      "(80,)\n",
      "(1080,)\n"
     ]
    }
   ],
   "source": [
    "#extract the MOM model grid info - 50 and 75 vertical levels\n",
    "hgrid_file ='/g/data1/v45/pas561/mom/archive/gfdl_nyf_1080/mom025_ocean_grid.nc'\n",
    "\n",
    "# Extract the variables\n",
    "nc = Dataset(hgrid_file, mode='r') # file handle, open in read only mode\n",
    "geolon_t = nc.variables['geolon_t'][:]\n",
    "geolat_t = nc.variables['geolat_t'][:]\n",
    "area_t = nc.variables['area_t'][:]\n",
    "dxt = nc.variables['dxt'][:]\n",
    "dyt = nc.variables['dyt'][:]\n",
    "kmu = nc.variables['kmu'][:]\n",
    "kmt = nc.variables['kmt'][:]\n",
    "ht = nc.variables['ht'][:]\n",
    "fcor = nc.variables['f_coriolis'][:]\n",
    "nc.close() # close the file\n",
    "print(geolon_t.shape)\n",
    "\n",
    "fh=fcor/ht\n",
    "#print fh.shape\n",
    "\n",
    "vgrid_file ='/g/data1/v45/pas561/mom/archive/gfdl_nyf_1080/ocean.ncra501-520.nc'\n",
    "\n",
    "nc = Dataset(vgrid_file, mode='r') # file handle, open in read only mode\n",
    "sw_ocean = nc.variables['sw_ocean'][:]\n",
    "st_ocean = nc.variables['st_ocean'][:]\n",
    "yt_ocean = nc.variables['yt_ocean'][:]\n",
    "yu_ocean = nc.variables['yu_ocean'][:]\n",
    "xt_ocean = nc.variables['xt_ocean'][:]\n",
    "potrho = nc.variables['potrho'][:]\n",
    "nc.close() # close the file\n",
    "print(st_ocean.shape)\n",
    "print(potrho.shape)\n",
    "print(yt_ocean.shape)\n"
   ]
  },
  {
   "cell_type": "code",
   "execution_count": 4,
   "metadata": {},
   "outputs": [],
   "source": [
    "NYFCntrlDir = '/g/data1/v45/pas561/mom/archive/wombat_jun16z/'\n",
    "#this has 3 years of a wind perturbation - get a nice 3 year polynya.\n",
    "NYFPertDir = '/g/data1/v45/pas561/mom/archive/wombat_jun16z_wp2_74/'"
   ]
  },
  {
   "cell_type": "code",
   "execution_count": 5,
   "metadata": {},
   "outputs": [
    {
     "name": "stdout",
     "output_type": "stream",
     "text": [
      "/g/data1/v45/pas561/mom/archive/wombat_jun16z/Tdim_output197*/ocean__*.nc\n",
      "(9, 50, 1080, 1440)\n",
      "(40, 50, 1080, 1440)\n",
      "/g/data1/v45/pas561/mom/archive/wombat_jun16z_wp2_74/output*/ocean__*.nc\n",
      "(44, 50, 1080, 1440)\n"
     ]
    }
   ],
   "source": [
    "Ocean_File = os.path.join(NYFCntrlDir,'Tdim_output197*/ocean__*.nc')\n",
    "print(Ocean_File)\n",
    "cntrl=xr.open_mfdataset(Ocean_File,engine='netcdf4',concat_dim='time',decode_times=False)\n",
    "print(cntrl.temp.shape)\n",
    "\n",
    "Ocean_File = os.path.join(NYFCntrlDir,'output*/ocean__*.nc')\n",
    "cntrl2=xr.open_mfdataset(Ocean_File,engine='netcdf4',concat_dim='Time',decode_times=False)\n",
    "print(cntrl2.temp.shape)\n",
    "\n",
    "\n",
    "Ocean_File = os.path.join(NYFPertDir,'output*/ocean__*.nc')\n",
    "print(Ocean_File)\n",
    "pert=xr.open_mfdataset(Ocean_File,engine='netcdf4',concat_dim='Time',decode_times=False)\n",
    "print(pert.temp.shape) \n"
   ]
  },
  {
   "cell_type": "code",
   "execution_count": 7,
   "metadata": {},
   "outputs": [
    {
     "name": "stderr",
     "output_type": "stream",
     "text": [
      "/g/data3/hh5/public/apps/miniconda3/envs/analysis3-19.01/lib/python3.6/site-packages/numpy/ma/core.py:6461: MaskedArrayFutureWarning: In the future the default for ma.minimum.reduce will be axis=0, not the current None, to match np.minimum.reduce. Explicitly pass 0 or None to silence this warning.\n",
      "  return self.reduce(a)\n",
      "/g/data3/hh5/public/apps/miniconda3/envs/analysis3-19.01/lib/python3.6/site-packages/numpy/ma/core.py:6461: MaskedArrayFutureWarning: In the future the default for ma.maximum.reduce will be axis=0, not the current None, to match np.maximum.reduce. Explicitly pass 0 or None to silence this warning.\n",
      "  return self.reduce(a)\n",
      "/g/data3/hh5/public/apps/miniconda3/envs/analysis3-19.01/lib/python3.6/site-packages/matplotlib/figure.py:1742: UserWarning: This figure includes Axes that are not compatible with tight_layout, so its results might be incorrect.\n",
      "  warnings.warn(\"This figure includes Axes that are not \"\n"
     ]
    },
    {
     "ename": "AttributeError",
     "evalue": "module 'matplotlib.colors' has no attribute 'to_rgba'",
     "output_type": "error",
     "traceback": [
      "\u001b[0;31m---------------------------------------------------------------------------\u001b[0m",
      "\u001b[0;31mAttributeError\u001b[0m                            Traceback (most recent call last)",
      "\u001b[0;32m/g/data3/hh5/public/apps/miniconda3/envs/analysis3-19.01/lib/python3.6/site-packages/ipykernel/pylab/backend_inline.py\u001b[0m in \u001b[0;36mshow\u001b[0;34m(close, block)\u001b[0m\n\u001b[1;32m     37\u001b[0m             display(\n\u001b[1;32m     38\u001b[0m                 \u001b[0mfigure_manager\u001b[0m\u001b[0;34m.\u001b[0m\u001b[0mcanvas\u001b[0m\u001b[0;34m.\u001b[0m\u001b[0mfigure\u001b[0m\u001b[0;34m,\u001b[0m\u001b[0;34m\u001b[0m\u001b[0;34m\u001b[0m\u001b[0m\n\u001b[0;32m---> 39\u001b[0;31m                 \u001b[0mmetadata\u001b[0m\u001b[0;34m=\u001b[0m\u001b[0m_fetch_figure_metadata\u001b[0m\u001b[0;34m(\u001b[0m\u001b[0mfigure_manager\u001b[0m\u001b[0;34m.\u001b[0m\u001b[0mcanvas\u001b[0m\u001b[0;34m.\u001b[0m\u001b[0mfigure\u001b[0m\u001b[0;34m)\u001b[0m\u001b[0;34m\u001b[0m\u001b[0;34m\u001b[0m\u001b[0m\n\u001b[0m\u001b[1;32m     40\u001b[0m             )\n\u001b[1;32m     41\u001b[0m     \u001b[0;32mfinally\u001b[0m\u001b[0;34m:\u001b[0m\u001b[0;34m\u001b[0m\u001b[0;34m\u001b[0m\u001b[0m\n",
      "\u001b[0;32m/g/data3/hh5/public/apps/miniconda3/envs/analysis3-19.01/lib/python3.6/site-packages/ipykernel/pylab/backend_inline.py\u001b[0m in \u001b[0;36m_fetch_figure_metadata\u001b[0;34m(fig)\u001b[0m\n\u001b[1;32m    172\u001b[0m     \u001b[0;34m\"\"\"Get some metadata to help with displaying a figure.\"\"\"\u001b[0m\u001b[0;34m\u001b[0m\u001b[0;34m\u001b[0m\u001b[0m\n\u001b[1;32m    173\u001b[0m     \u001b[0;31m# determine if a background is needed for legibility\u001b[0m\u001b[0;34m\u001b[0m\u001b[0;34m\u001b[0m\u001b[0;34m\u001b[0m\u001b[0m\n\u001b[0;32m--> 174\u001b[0;31m     \u001b[0;32mif\u001b[0m \u001b[0m_is_transparent\u001b[0m\u001b[0;34m(\u001b[0m\u001b[0mfig\u001b[0m\u001b[0;34m.\u001b[0m\u001b[0mget_facecolor\u001b[0m\u001b[0;34m(\u001b[0m\u001b[0;34m)\u001b[0m\u001b[0;34m)\u001b[0m\u001b[0;34m:\u001b[0m\u001b[0;34m\u001b[0m\u001b[0;34m\u001b[0m\u001b[0m\n\u001b[0m\u001b[1;32m    175\u001b[0m         \u001b[0;31m# the background is transparent\u001b[0m\u001b[0;34m\u001b[0m\u001b[0;34m\u001b[0m\u001b[0;34m\u001b[0m\u001b[0m\n\u001b[1;32m    176\u001b[0m         ticksLight = _is_light([label.get_color()\n",
      "\u001b[0;32m/g/data3/hh5/public/apps/miniconda3/envs/analysis3-19.01/lib/python3.6/site-packages/ipykernel/pylab/backend_inline.py\u001b[0m in \u001b[0;36m_is_transparent\u001b[0;34m(color)\u001b[0m\n\u001b[1;32m    193\u001b[0m \u001b[0;32mdef\u001b[0m \u001b[0m_is_transparent\u001b[0m\u001b[0;34m(\u001b[0m\u001b[0mcolor\u001b[0m\u001b[0;34m)\u001b[0m\u001b[0;34m:\u001b[0m\u001b[0;34m\u001b[0m\u001b[0;34m\u001b[0m\u001b[0m\n\u001b[1;32m    194\u001b[0m     \u001b[0;34m\"\"\"Determine transparency from alpha.\"\"\"\u001b[0m\u001b[0;34m\u001b[0m\u001b[0;34m\u001b[0m\u001b[0m\n\u001b[0;32m--> 195\u001b[0;31m     \u001b[0mrgba\u001b[0m \u001b[0;34m=\u001b[0m \u001b[0mcolors\u001b[0m\u001b[0;34m.\u001b[0m\u001b[0mto_rgba\u001b[0m\u001b[0;34m(\u001b[0m\u001b[0mcolor\u001b[0m\u001b[0;34m)\u001b[0m\u001b[0;34m\u001b[0m\u001b[0;34m\u001b[0m\u001b[0m\n\u001b[0m\u001b[1;32m    196\u001b[0m     \u001b[0;32mreturn\u001b[0m \u001b[0mrgba\u001b[0m\u001b[0;34m[\u001b[0m\u001b[0;36m3\u001b[0m\u001b[0;34m]\u001b[0m \u001b[0;34m<\u001b[0m \u001b[0;36m.5\u001b[0m\u001b[0;34m\u001b[0m\u001b[0;34m\u001b[0m\u001b[0m\n",
      "\u001b[0;31mAttributeError\u001b[0m: module 'matplotlib.colors' has no attribute 'to_rgba'"
     ]
    }
   ],
   "source": [
    "plt.figure(figsize(12.5,9.5))\n",
    "x_formatter = matplotlib.ticker.ScalarFormatter(useOffset=False)\n",
    "plt.suptitle('Temp 55m')\n",
    "yrs=np.arange(1973,2016,1)\n",
    "\n",
    "clev = np.linspace(-2,2,41)\n",
    "st=5\n",
    "ii=0\n",
    "plt.subplot(1,1,1)\n",
    "map = Basemap(projection='spstere',boundinglat=-55,lon_0=90,resolution='l',round=True)\n",
    "map.drawcoastlines(linewidth=0.25)\n",
    "map.fillcontinents(color='gray',lake_color='gray')\n",
    "X, Y = map(geolon_t[0:500,:],geolat_t[0:500,:])     \n",
    "p1=map.contourf(X,Y,pert.temp[0,st,0:500,:].load(), cmap=plt.cm.bwr, levels=clev, extend='both') #CMRmap_r, gist_stern_r\n",
    "clev3 = np.arange(0,5000,1000)\n",
    "map.contour(X,Y,ht[0:500,:],levels=clev3,colors='k',linewidths=1)\n",
    "\n",
    "ax3 = plt.axes([0.98,0.38,0.015,0.25])\n",
    "cb = plt.colorbar(p1,cax=ax3,orientation='vertical')\n",
    "#ticks=[0, 500, 1000, 1500, 2000]\n",
    "cb.ax.set_xlabel('C')\n",
    "\n",
    "plt.tight_layout()"
   ]
  },
  {
   "cell_type": "code",
   "execution_count": null,
   "metadata": {},
   "outputs": [],
   "source": []
  }
 ],
 "metadata": {
  "kernelspec": {
   "display_name": "Python [conda env:analysis3-19.01]",
   "language": "python",
   "name": "conda-env-analysis3-19.01-py"
  },
  "language_info": {
   "codemirror_mode": {
    "name": "ipython",
    "version": 3
   },
   "file_extension": ".py",
   "mimetype": "text/x-python",
   "name": "python",
   "nbconvert_exporter": "python",
   "pygments_lexer": "ipython3",
   "version": "3.6.7"
  }
 },
 "nbformat": 4,
 "nbformat_minor": 2
}
